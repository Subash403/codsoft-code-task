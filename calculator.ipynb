{
 "cells": [
  {
   "cell_type": "code",
   "execution_count": 1,
   "id": "5dc9d687-09ec-4799-a6b0-799650dc3170",
   "metadata": {},
   "outputs": [
    {
     "name": "stdin",
     "output_type": "stream",
     "text": [
      "Enter the first number:  5\n",
      "Enter the second number:  6\n",
      "Enter an operator (+, -, *, /, %):  +\n"
     ]
    },
    {
     "name": "stdout",
     "output_type": "stream",
     "text": [
      "The result of 5.0 + 6.0 is: 11.0\n"
     ]
    }
   ],
   "source": [
    "def add(x, y):\n",
    "    return x + y\n",
    "\n",
    "def subtract(x, y):\n",
    "    return x - y\n",
    "\n",
    "def multiply(x, y):\n",
    "    return x * y\n",
    "\n",
    "def divide(x, y):\n",
    "    if y != 0:\n",
    "        return x / y\n",
    "    else:\n",
    "        return \"Error: Division by zero\"\n",
    "\n",
    "def modulo(x, y):\n",
    "    if y != 0:\n",
    "        return x % y\n",
    "    else:\n",
    "        return \"Error: Division by zero\"\n",
    "\n",
    "if __name__ == \"__main__\":\n",
    "    try:\n",
    "        num1 = float(input(\"Enter the first number: \"))\n",
    "        num2 = float(input(\"Enter the second number: \"))\n",
    "        operator = input(\"Enter an operator (+, -, *, /, %): \")\n",
    "\n",
    "        if operator == '+':\n",
    "            result = add(num1, num2)\n",
    "        elif operator == '-':\n",
    "            result = subtract(num1, num2)\n",
    "        elif operator == '*':\n",
    "            result = multiply(num1, num2)\n",
    "        elif operator == '/':\n",
    "            result = divide(num1, num2)\n",
    "        elif operator == '%':\n",
    "            result = modulo(num1, num2)\n",
    "        else:\n",
    "            result = \"Invalid operator. Please use one of +, -, *, /, %.\"\n",
    "        \n",
    "        print(f\"The result of {num1} {operator} {num2} is: {result}\")\n",
    "    except ValueError:\n",
    "        print(\"Invalid input. Please enter numeric values for the numbers.\")\n"
   ]
  },
  {
   "cell_type": "code",
   "execution_count": null,
   "id": "58de8319-5cba-44bd-b35f-afb0fc6e119d",
   "metadata": {},
   "outputs": [],
   "source": []
  }
 ],
 "metadata": {
  "kernelspec": {
   "display_name": "Python 3 (ipykernel)",
   "language": "python",
   "name": "python3"
  },
  "language_info": {
   "codemirror_mode": {
    "name": "ipython",
    "version": 3
   },
   "file_extension": ".py",
   "mimetype": "text/x-python",
   "name": "python",
   "nbconvert_exporter": "python",
   "pygments_lexer": "ipython3",
   "version": "3.11.7"
  }
 },
 "nbformat": 4,
 "nbformat_minor": 5
}
